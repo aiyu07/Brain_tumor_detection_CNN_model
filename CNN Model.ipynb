{
 "cells": [
  {
   "cell_type": "code",
   "execution_count": 21,
   "metadata": {},
   "outputs": [],
   "source": [
    "import tensorflow as tf"
   ]
  },
  {
   "cell_type": "code",
   "execution_count": 22,
   "metadata": {},
   "outputs": [],
   "source": [
    "from tensorflow.keras.layers import Conv2D, Input, MaxPooling2D, Flatten, Dense\n",
    "from tensorflow.keras.models import Model, load_model\n",
    "from tensorflow.keras.callbacks import TensorBoard, ModelCheckpoint\n",
    "from sklearn.model_selection import train_test_split\n",
    "from sklearn.metrics import f1_score\n",
    "from sklearn.utils import shuffle\n",
    "import cv2 as cv\n",
    "import imutils\n",
    "import numpy as np\n",
    "from matplotlib import pyplot as plt\n",
    "import time\n",
    "from os import listdir\n",
    "\n",
    "%matplotlib inline"
   ]
  },
  {
   "cell_type": "code",
   "execution_count": 23,
   "metadata": {},
   "outputs": [],
   "source": [
    "def crop_brain_contour(image, plot=False):\n",
    "  \n",
    "  gray = cv.cvtColor(image,cv.COLOR_BGR2GRAY)\n",
    "  gray = cv.GaussianBlur(gray,(5,5),0)\n",
    "    \n",
    "  thresh = cv.threshold(gray,45,255,cv.THRESH_BINARY+cv.THRESH_OTSU)[1]\n",
    "  thresh = cv.erode(thresh, None, iterations=2)\n",
    "  thresh = cv.dilate(thresh,None,iterations=2)\n",
    "\n",
    "  cnts = cv.findContours(thresh.copy(), cv.RETR_EXTERNAL, cv.CHAIN_APPROX_SIMPLE)\n",
    "  cnts = imutils.grab_contours(cnts)\n",
    "  c = max(cnts, key=cv.contourArea)\n",
    "\n",
    "  extLeft = tuple(c[c[:,:,0].argmin()][0])\n",
    "  extRight = tuple(c[c[:,:,0].argmax()][0]) \n",
    "  extTop = tuple(c[c[:,:,1].argmin()][0])\n",
    "  extBot = tuple(c[c[:,:,1].argmax()][0])\n",
    "\n",
    "  new_image = image[extTop[1]:extBot[1],extLeft[0]:extRight[0]]\n",
    "\n",
    "  if plot:\n",
    "    plt.figure()\n",
    "\n",
    "    plt.subplot(1,2,1)\n",
    "    plt.imshow(image)\n",
    "\n",
    "    plt.tick_params(axis='both', which='both', \n",
    "                        top=False, bottom=False, left=False, right=False,\n",
    "                        labelbottom=False, labeltop=False, labelleft=False, labelright=False)\n",
    "    plt.title('Original image')\n",
    "    plt.subplot(1,2,2)\n",
    "    plt.imshow(new_image)\n",
    "\n",
    "    plt.tick_params(axis='both', which='both', \n",
    "                        top=False, bottom=False, left=False, right=False,\n",
    "                        labelbottom=False, labeltop=False, labelleft=False, labelright=False)\n",
    "    plt.title('Cropped Image')\n",
    "    plt.show()\n",
    "\n",
    "  return new_image"
   ]
  },
  {
   "cell_type": "code",
   "execution_count": 24,
   "metadata": {},
   "outputs": [],
   "source": [
    "def load_data(dir_list,image_size):\n",
    "  x=[]\n",
    "  y=[]\n",
    "\n",
    "  image_width,image_height = image_size\n",
    "  for directory in dir_list:\n",
    "    for filename in listdir(directory):\n",
    "\n",
    "      #print(directory)\n",
    "      #print(filename)\n",
    "      image = cv.imread(directory + '/' + filename)\n",
    "      #print(image)\n",
    "      image = crop_brain_contour(image,plot=False)\n",
    "      image = cv.resize(image,dsize=(image_width,image_height),interpolation = cv.INTER_CUBIC)\n",
    "\n",
    "      image=image/255\n",
    "      x.append(image)\n",
    "\n",
    "      if directory[-3:] == 'yes':\n",
    "        y.append([1])\n",
    "      else:\n",
    "        y.append([0]) \n",
    "\n",
    "  X = np.array(x)\n",
    "  y = np.array(y)\n",
    "\n",
    "  X,y = shuffle(X,y)\n",
    "\n",
    "  print(f'Number of examples: {len(X)}')\n",
    "  print(f'X shape:{X.shape}')\n",
    "  print(f'Y shape:{y.shape}')\n",
    "\n",
    "  return X,y"
   ]
  },
  {
   "cell_type": "code",
   "execution_count": 25,
   "metadata": {},
   "outputs": [
    {
     "name": "stdout",
     "output_type": "stream",
     "text": [
      "Number of examples: 5678\n",
      "X shape:(5678, 64, 64, 3)\n",
      "Y shape:(5678, 1)\n"
     ]
    }
   ],
   "source": [
    "path = 'augmented_dataset/'\n",
    "\n",
    "# augmented data (yes and no) contains both the original and the new generated examples\n",
    "augmented_yes = path + 'yes' \n",
    "augmented_no = path + 'no'\n",
    "\n",
    "IMG_WIDTH, IMG_HEIGHT = (64, 64)\n",
    "\n",
    "X, y = load_data([augmented_yes, augmented_no], (IMG_WIDTH, IMG_HEIGHT))\n"
   ]
  },
  {
   "cell_type": "code",
   "execution_count": 26,
   "metadata": {},
   "outputs": [],
   "source": [
    "def split_data(X, y, test_size=0.2):\n",
    "  X_train, X_test_val, y_train, y_test_val = train_test_split(X, y, test_size=test_size)\n",
    "  X_test, X_val, y_test, y_val = train_test_split(X_test_val, y_test_val, test_size=0.5)\n",
    "\n",
    "  return X_train,y_train,X_val,y_val,X_test,y_test"
   ]
  },
  {
   "cell_type": "code",
   "execution_count": 27,
   "metadata": {},
   "outputs": [],
   "source": [
    "X_train, y_train, X_val, y_val, X_test, y_test = split_data(X, y, test_size=0.3)"
   ]
  },
  {
   "cell_type": "code",
   "execution_count": 28,
   "metadata": {},
   "outputs": [],
   "source": [
    "def build_model(image_shape):\n",
    "  X_input = Input(image_shape)\n",
    "  #print(X_input)\n",
    "    \n",
    "  X = tf.keras.models.Sequential()\n",
    "    \n",
    "  X = Conv2D(filters=32, kernel_size=7, activation='relu')(X_input)\n",
    "\n",
    "  X = MaxPooling2D(pool_size=4, strides=2)(X)\n",
    "    \n",
    "  X = Conv2D(filters=32, kernel_size=7, activation='relu')(X)\n",
    "\n",
    "  X = MaxPooling2D(pool_size=4, strides=2)(X)\n",
    "\n",
    "  X = Flatten()(X)\n",
    "\n",
    "  X = Dense(1,activation='sigmoid')(X)\n",
    "\n",
    "  model = Model(inputs=X_input,outputs=X,name='TumorDetection')\n",
    "  return model"
   ]
  },
  {
   "cell_type": "code",
   "execution_count": 29,
   "metadata": {},
   "outputs": [],
   "source": [
    "IMG_SHAPE = IMG_WIDTH,IMG_HEIGHT,3"
   ]
  },
  {
   "cell_type": "code",
   "execution_count": 30,
   "metadata": {},
   "outputs": [],
   "source": [
    "model = build_model(IMG_SHAPE)"
   ]
  },
  {
   "cell_type": "code",
   "execution_count": 31,
   "metadata": {},
   "outputs": [],
   "source": [
    "model.compile(optimizer='adam', loss='binary_crossentropy', metrics=['accuracy'])\n"
   ]
  },
  {
   "cell_type": "code",
   "execution_count": 32,
   "metadata": {},
   "outputs": [
    {
     "name": "stdout",
     "output_type": "stream",
     "text": [
      "Train on 3974 samples, validate on 852 samples\n",
      "Epoch 1/15\n",
      "3974/3974 [==============================] - 31s 8ms/sample - loss: 0.6204 - acc: 0.6480 - val_loss: 0.6050 - val_acc: 0.6749\n",
      "Epoch 2/15\n",
      "3974/3974 [==============================] - 31s 8ms/sample - loss: 0.5202 - acc: 0.7519 - val_loss: 0.5588 - val_acc: 0.7300\n",
      "Epoch 3/15\n",
      "3974/3974 [==============================] - 31s 8ms/sample - loss: 0.4798 - acc: 0.7713 - val_loss: 0.4948 - val_acc: 0.7418\n",
      "Epoch 4/15\n",
      "3974/3974 [==============================] - 31s 8ms/sample - loss: 0.4461 - acc: 0.7909 - val_loss: 0.4473 - val_acc: 0.7864\n",
      "Epoch 5/15\n",
      "3974/3974 [==============================] - 31s 8ms/sample - loss: 0.4085 - acc: 0.8181 - val_loss: 0.4629 - val_acc: 0.7735\n",
      "Epoch 6/15\n",
      "3974/3974 [==============================] - 31s 8ms/sample - loss: 0.3640 - acc: 0.8377 - val_loss: 0.4067 - val_acc: 0.8169\n",
      "Epoch 7/15\n",
      "3974/3974 [==============================] - 31s 8ms/sample - loss: 0.3428 - acc: 0.8505 - val_loss: 0.4193 - val_acc: 0.8181\n",
      "Epoch 8/15\n",
      "3974/3974 [==============================] - 31s 8ms/sample - loss: 0.3011 - acc: 0.8772 - val_loss: 0.3814 - val_acc: 0.8427\n",
      "Epoch 9/15\n",
      "3974/3974 [==============================] - 31s 8ms/sample - loss: 0.2773 - acc: 0.8883 - val_loss: 0.3904 - val_acc: 0.8439\n",
      "Epoch 10/15\n",
      "3974/3974 [==============================] - 31s 8ms/sample - loss: 0.2412 - acc: 0.9061 - val_loss: 0.3273 - val_acc: 0.8580\n",
      "Epoch 11/15\n",
      "3974/3974 [==============================] - 31s 8ms/sample - loss: 0.2288 - acc: 0.9089 - val_loss: 0.4372 - val_acc: 0.8192\n",
      "Epoch 12/15\n",
      "3974/3974 [==============================] - 31s 8ms/sample - loss: 0.1976 - acc: 0.9240 - val_loss: 0.3325 - val_acc: 0.8721\n",
      "Epoch 13/15\n",
      "3974/3974 [==============================] - 31s 8ms/sample - loss: 0.1826 - acc: 0.9336 - val_loss: 0.3441 - val_acc: 0.8732\n",
      "Epoch 14/15\n",
      "3974/3974 [==============================] - 31s 8ms/sample - loss: 0.2020 - acc: 0.9235 - val_loss: 0.3017 - val_acc: 0.8873\n",
      "Epoch 15/15\n",
      "3974/3974 [==============================] - 31s 8ms/sample - loss: 0.1544 - acc: 0.9451 - val_loss: 0.4401 - val_acc: 0.8603\n"
     ]
    },
    {
     "data": {
      "text/plain": [
       "<tensorflow.python.keras.callbacks.History at 0x263a6cd9d08>"
      ]
     },
     "execution_count": 32,
     "metadata": {},
     "output_type": "execute_result"
    }
   ],
   "source": [
    "model.fit(x=X_train,y=y_train,batch_size=32,epochs=15,validation_data=(X_val,y_val))"
   ]
  },
  {
   "cell_type": "code",
   "execution_count": 33,
   "metadata": {},
   "outputs": [
    {
     "name": "stdout",
     "output_type": "stream",
     "text": [
      "Train on 3974 samples, validate on 852 samples\n",
      "Epoch 1/4\n",
      "3974/3974 [==============================] - 31s 8ms/sample - loss: 0.1358 - acc: 0.9497 - val_loss: 0.2960 - val_acc: 0.8944\n",
      "Epoch 2/4\n",
      "3974/3974 [==============================] - 31s 8ms/sample - loss: 0.1192 - acc: 0.9597 - val_loss: 0.3305 - val_acc: 0.8732\n",
      "Epoch 3/4\n",
      "3974/3974 [==============================] - 31s 8ms/sample - loss: 0.1075 - acc: 0.9620 - val_loss: 0.3204 - val_acc: 0.8815\n",
      "Epoch 4/4\n",
      "3974/3974 [==============================] - 31s 8ms/sample - loss: 0.0979 - acc: 0.9650 - val_loss: 0.3034 - val_acc: 0.8873\n"
     ]
    },
    {
     "data": {
      "text/plain": [
       "<tensorflow.python.keras.callbacks.History at 0x263a8e0dec8>"
      ]
     },
     "execution_count": 33,
     "metadata": {},
     "output_type": "execute_result"
    }
   ],
   "source": [
    "model.fit(x=X_train,y=y_train,batch_size=32,epochs=4,validation_data=(X_val,y_val))"
   ]
  },
  {
   "cell_type": "code",
   "execution_count": 34,
   "metadata": {},
   "outputs": [
    {
     "name": "stdout",
     "output_type": "stream",
     "text": [
      "Train on 3974 samples, validate on 852 samples\n",
      "Epoch 1/10\n",
      "3974/3974 [==============================] - 31s 8ms/sample - loss: 0.0982 - acc: 0.9693 - val_loss: 0.3565 - val_acc: 0.8862\n",
      "Epoch 2/10\n",
      "3974/3974 [==============================] - 31s 8ms/sample - loss: 0.0828 - acc: 0.9748 - val_loss: 0.3209 - val_acc: 0.8850\n",
      "Epoch 3/10\n",
      "3974/3974 [==============================] - 31s 8ms/sample - loss: 0.0750 - acc: 0.9756 - val_loss: 0.3234 - val_acc: 0.8920\n",
      "Epoch 4/10\n",
      "3974/3974 [==============================] - 31s 8ms/sample - loss: 0.0950 - acc: 0.9648 - val_loss: 0.3233 - val_acc: 0.8944\n",
      "Epoch 5/10\n",
      "3974/3974 [==============================] - 31s 8ms/sample - loss: 0.0463 - acc: 0.9892 - val_loss: 0.3204 - val_acc: 0.9061\n",
      "Epoch 6/10\n",
      "3974/3974 [==============================] - 31s 8ms/sample - loss: 0.0517 - acc: 0.9879 - val_loss: 0.3663 - val_acc: 0.8932\n",
      "Epoch 7/10\n",
      "3974/3974 [==============================] - 31s 8ms/sample - loss: 0.0703 - acc: 0.9753 - val_loss: 0.3463 - val_acc: 0.9096\n",
      "Epoch 8/10\n",
      "3974/3974 [==============================] - 31s 8ms/sample - loss: 0.0407 - acc: 0.9897 - val_loss: 0.3586 - val_acc: 0.8967\n",
      "Epoch 9/10\n",
      "3974/3974 [==============================] - 31s 8ms/sample - loss: 0.0480 - acc: 0.9857 - val_loss: 0.3295 - val_acc: 0.9108\n",
      "Epoch 10/10\n",
      "3974/3974 [==============================] - 31s 8ms/sample - loss: 0.0570 - acc: 0.9791 - val_loss: 0.3607 - val_acc: 0.8955\n"
     ]
    },
    {
     "data": {
      "text/plain": [
       "<tensorflow.python.keras.callbacks.History at 0x263a8e95648>"
      ]
     },
     "execution_count": 34,
     "metadata": {},
     "output_type": "execute_result"
    }
   ],
   "source": [
    "model.fit(x=X_train,y=y_train,batch_size=32,epochs=10,validation_data=(X_val,y_val))"
   ]
  },
  {
   "cell_type": "code",
   "execution_count": 35,
   "metadata": {},
   "outputs": [],
   "source": [
    "history = model.history.history\n"
   ]
  },
  {
   "cell_type": "code",
   "execution_count": 36,
   "metadata": {},
   "outputs": [
    {
     "name": "stdout",
     "output_type": "stream",
     "text": [
      "loss\n",
      "acc\n",
      "val_loss\n",
      "val_acc\n"
     ]
    }
   ],
   "source": [
    "for key in history.keys():\n",
    "  print(key)"
   ]
  },
  {
   "cell_type": "code",
   "execution_count": 37,
   "metadata": {},
   "outputs": [],
   "source": [
    "def plot_metrics(history):\n",
    "    \n",
    "    train_loss = history['loss']\n",
    "    val_loss = history['val_loss']\n",
    "    train_acc = history['acc']\n",
    "    val_acc = history['val_acc']\n",
    "    \n",
    "    trainAcc=0\n",
    "    \n",
    "    for ele in range(0, len(train_acc)): \n",
    "        trainAcc = trainAcc + train_acc[ele]\n",
    "    \n",
    "    print('Training Accuracy - ',trainAcc/len(train_acc)*100)\n",
    "    \n",
    "    valAcc=0\n",
    "    \n",
    "    for ele in range(0, len(val_acc)): \n",
    "        valAcc = valAcc + val_acc[ele]\n",
    "    \n",
    "    print('Validation Accuracy - ',valAcc/len(val_acc)*100)\n",
    "    \n",
    "    # Loss\n",
    "    plt.figure()\n",
    "    plt.plot(train_loss, label='Training Loss')\n",
    "    plt.plot(val_loss, label='Validation Loss')\n",
    "    plt.title('Loss')\n",
    "    plt.legend()\n",
    "    plt.show()\n",
    "    \n",
    "    # Accuracy\n",
    "    plt.figure()\n",
    "    plt.plot(train_acc, label='Training Accuracy')\n",
    "    plt.plot(val_acc, label='Validation Accuracy')\n",
    "    plt.title('Accuracy')\n",
    "    plt.legend()\n",
    "    plt.show()"
   ]
  },
  {
   "cell_type": "code",
   "execution_count": 38,
   "metadata": {},
   "outputs": [
    {
     "name": "stdout",
     "output_type": "stream",
     "text": [
      "Training Accuracy -  97.91394054889679\n",
      "Validation Accuracy -  89.69483554363251\n"
     ]
    },
    {
     "data": {
      "image/png": "[encoded data removed]",
      "text/plain": [
       "<Figure size 432x288 with 1 Axes>"
      ]
     },
     "metadata": {
      "needs_background": "light"
     },
     "output_type": "display_data"
    },
    {
     "data": {
      "image/png": "[encoded data removed]",
      "text/plain": [
       "<Figure size 432x288 with 1 Axes>"
      ]
     },
     "metadata": {
      "needs_background": "light"
     },
     "output_type": "display_data"
    }
   ],
   "source": [
    "plot_metrics(history)"
   ]
  },
  {
   "cell_type": "code",
   "execution_count": 19,
   "metadata": {},
   "outputs": [
    {
     "name": "stderr",
     "output_type": "stream",
     "text": [
      "Using TensorFlow backend.\n"
     ]
    }
   ],
   "source": [
    "import numpy as np\n",
    "from keras.preprocessing import image\n",
    "test_image = image.load_img('prediction/yes_or_no_2.jpg', target_size = (64, 64))\n",
    "test_image = image.img_to_array(test_image)\n",
    "test_image = np.expand_dims(test_image, axis = 0)\n",
    "result = model.predict(test_image)\n",
    "#training_set.class_indices\n",
    "if result[0][0] == 1:\n",
    "  prediction = 'tumor detected'\n",
    "else:\n",
    "  prediction = 'no tumor detected'"
   ]
  },
  {
   "cell_type": "code",
   "execution_count": 20,
   "metadata": {},
   "outputs": [
    {
     "name": "stdout",
     "output_type": "stream",
     "text": [
      "tumor detected\n"
     ]
    }
   ],
   "source": [
    "print(prediction)"
   ]
  },
  {
   "cell_type": "code",
   "execution_count": null,
   "metadata": {},
   "outputs": [],
   "source": []
  }
 ],
 "metadata": {
  "kernelspec": {
   "display_name": "Python 3",
   "language": "python",
   "name": "python3"
  },
  "language_info": {
   "codemirror_mode": {
    "name": "ipython",
    "version": 3
   },
   "file_extension": ".py",
   "mimetype": "text/x-python",
   "name": "python",
   "nbconvert_exporter": "python",
   "pygments_lexer": "ipython3",
   "version": "3.7.6"
  }
 },
 "nbformat": 4,
 "nbformat_minor": 4
}
